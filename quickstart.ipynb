{
 "cells": [
  {
   "cell_type": "markdown",
   "metadata": {},
   "source": [
    "# EPH Quickstart"
   ]
  },
  {
   "cell_type": "markdown",
   "metadata": {},
   "source": [
    "<a href=\"https://colab.research.google.com/github/ai4co/eph-mapf/blob/main/quickstart.ipynb\"><img src=\"https://colab.research.google.com/assets/colab-badge.svg\" alt=\"Open In Colab\"></a>\n",
    "\n",
    "If you are running in Google Colab, you can install the required packages by uncommenting and running the following cell:"
   ]
  },
  {
   "cell_type": "code",
   "execution_count": 22,
   "metadata": {},
   "outputs": [],
   "source": [
    "# !git clone https://github.com/ai4co/eph-mapf.git && cd eph-mapf && pip install -e '.[all]'\n",
    "# !cp -r eph-mapf/* . # copy everything in Colab root\n",
    "# !apt install ffmpeg # install for video"
   ]
  },
  {
   "cell_type": "code",
   "execution_count": 1,
   "metadata": {},
   "outputs": [
    {
     "name": "stdout",
     "output_type": "stream",
     "text": [
      "Setting random seed to 42\n"
     ]
    }
   ],
   "source": [
    "%load_ext autoreload\n",
    "%autoreload 2\n",
    "\n",
    "from test import test_model\n",
    "from src.config import config\n",
    "from src.data.generate_data import generate_movingai\n",
    "\n",
    "''' Ensemble (list of tuples made of 5 elements)\n",
    "use_stepinfer_method, astar_type, active_agent_radius, use_aep, aep_astar_type\n",
    "- use_stepinfer_method: True or False\n",
    "- astar_type: 1: All agents are treated as obstacles, 2: Treat Finished agents as obstacles, 3: Not regarding any agent as obstacles, None: Not use astar\n",
    "- active_agent_radius: only if astar_type is not None. The radius of the active agent to be considered for astar. This parameter is only for hybrid guidance, NOT for AEP.\n",
    "- use_aep: True or False\n",
    "- aep_astar_type: 1: All agents are treated as obstacles, 2: Treat Finished agents as obstacles, 3: Not regarding any agent as obstacles, None: Not use astar\n",
    "'''\n",
    "\n",
    "config.ensemble = [\n",
    "    (False, None, None, False,None),]\n",
    "\n",
    "config.test_folder = \"./test_set\"\n",
    "config.save_map_config = True\n",
    "config.save_positions = True\n",
    "config.data_mode = \"movingai\"\n",
    "\n",
    "# config.action_dim=2\n",
    "config.test_env_settings = (\n",
    "                    (\"den312d\", 4),\n",
    "                    (\"den312d\", 8),\n",
    "                    # (\"den312d\", 16),\n",
    "                    # (\"den312d\", 32),\n",
    "                    # (\"den312d\", 64),\n",
    "                    (\"warehouse\", 4),\n",
    "                    (\"warehouse\", 8),\n",
    "                    # (\"warehouse\", 16),\n",
    "                    # (\"warehouse\", 32),\n",
    "                    # (\"warehouse\", 64),\n",
    "                    ) "
   ]
  },
  {
   "cell_type": "code",
   "execution_count": 2,
   "metadata": {},
   "outputs": [
    {
     "name": "stdout",
     "output_type": "stream",
     "text": [
      "Generating instances for den312d with 4 agents ...\n"
     ]
    },
    {
     "name": "stderr",
     "output_type": "stream",
     "text": [
      "100%|██████████| 20/20 [00:00<00:00, 312.20it/s]\n"
     ]
    },
    {
     "name": "stdout",
     "output_type": "stream",
     "text": [
      "Generating instances for den312d with 8 agents ...\n"
     ]
    },
    {
     "name": "stderr",
     "output_type": "stream",
     "text": [
      "100%|██████████| 20/20 [00:00<00:00, 290.37it/s]\n"
     ]
    },
    {
     "name": "stdout",
     "output_type": "stream",
     "text": [
      "Generating instances for warehouse with 4 agents ...\n"
     ]
    },
    {
     "name": "stderr",
     "output_type": "stream",
     "text": [
      "100%|██████████| 20/20 [00:00<00:00, 111.56it/s]\n"
     ]
    },
    {
     "name": "stdout",
     "output_type": "stream",
     "text": [
      "Generating instances for warehouse with 8 agents ...\n"
     ]
    },
    {
     "name": "stderr",
     "output_type": "stream",
     "text": [
      "100%|██████████| 20/20 [00:00<00:00, 126.38it/s]\n"
     ]
    }
   ],
   "source": [
    "generate_movingai(20, config.test_env_settings)"
   ]
  },
  {
   "cell_type": "code",
   "execution_count": 18,
   "metadata": {},
   "outputs": [
    {
     "data": {
      "text/html": [
       "<pre style=\"white-space:pre;overflow-x:auto;line-height:normal;font-family:Menlo,'DejaVu Sans Mono',consolas,'Courier New',monospace\">action_dim: <span style=\"color: #008080; text-decoration-color: #008080; font-weight: bold\">5</span>\n",
       "active_agent_radius: <span style=\"color: #008080; text-decoration-color: #008080; font-weight: bold\">4</span>\n",
       "actor_update_steps: <span style=\"color: #008080; text-decoration-color: #008080; font-weight: bold\">200</span>\n",
       "aep_astar_type: <span style=\"color: #008080; text-decoration-color: #008080; font-weight: bold\">2</span>\n",
       "aep_distance_threshold: null\n",
       "aep_use_q_value_only: false\n",
       "astar_type: <span style=\"color: #008080; text-decoration-color: #008080; font-weight: bold\">2</span>\n",
       "batch_size: <span style=\"color: #008080; text-decoration-color: #008080; font-weight: bold\">128</span>\n",
       "buffer_capacity: <span style=\"color: #008080; text-decoration-color: #008080; font-weight: bold\">262144</span>\n",
       "burn_in_steps: <span style=\"color: #008080; text-decoration-color: #008080; font-weight: bold\">20</span>\n",
       "chunk_capacity: <span style=\"color: #008080; text-decoration-color: #008080; font-weight: bold\">64</span>\n",
       "cl_history_size: <span style=\"color: #008080; text-decoration-color: #008080; font-weight: bold\">100</span>\n",
       "cnn_channel: <span style=\"color: #008080; text-decoration-color: #008080; font-weight: bold\">128</span>\n",
       "density: <span style=\"color: #008080; text-decoration-color: #008080; font-weight: bold\">0.3</span>\n",
       "ensemble:\n",
       "- - false\n",
       "  - null\n",
       "  - null\n",
       "  - false\n",
       "  - null\n",
       "forward_steps: <span style=\"color: #008080; text-decoration-color: #008080; font-weight: bold\">2</span>\n",
       "gamma: <span style=\"color: #008080; text-decoration-color: #008080; font-weight: bold\">0.99</span>\n",
       "grad_norm_dqn: <span style=\"color: #008080; text-decoration-color: #008080; font-weight: bold\">40</span>\n",
       "hidden_dim: <span style=\"color: #008080; text-decoration-color: #008080; font-weight: bold\">256</span>\n",
       "init_env_settings:\n",
       "- <span style=\"color: #008080; text-decoration-color: #008080; font-weight: bold\">1</span>\n",
       "- <span style=\"color: #008080; text-decoration-color: #008080; font-weight: bold\">10</span>\n",
       "learning_starts: <span style=\"color: #008080; text-decoration-color: #008080; font-weight: bold\">50000</span>\n",
       "log_interval: <span style=\"color: #008080; text-decoration-color: #008080; font-weight: bold\">10</span>\n",
       "lr: <span style=\"color: #008080; text-decoration-color: #008080; font-weight: bold\">0.0002</span>\n",
       "lr_scheduler_gamma: <span style=\"color: #008080; text-decoration-color: #008080; font-weight: bold\">0.5</span>\n",
       "lr_scheduler_milestones:\n",
       "- <span style=\"color: #008080; text-decoration-color: #008080; font-weight: bold\">40000</span>\n",
       "- <span style=\"color: #008080; text-decoration-color: #008080; font-weight: bold\">80000</span>\n",
       "max_comm_agents: <span style=\"color: #008080; text-decoration-color: #008080; font-weight: bold\">3</span>\n",
       "max_episode_length: <span style=\"color: #008080; text-decoration-color: #008080; font-weight: bold\">256</span>\n",
       "max_episode_length_80: <span style=\"color: #008080; text-decoration-color: #008080; font-weight: bold\">386</span>\n",
       "max_episode_warehouse: <span style=\"color: #008080; text-decoration-color: #008080; font-weight: bold\">512</span>\n",
       "max_map_lenght: <span style=\"color: #008080; text-decoration-color: #008080; font-weight: bold\">40</span>\n",
       "max_num_agents: <span style=\"color: #008080; text-decoration-color: #008080; font-weight: bold\">16</span>\n",
       "model_target: src.models.eph.Network\n",
       "name: eph\n",
       "num_actors: <span style=\"color: #008080; text-decoration-color: #008080; font-weight: bold\">16</span>\n",
       "num_test_cases: <span style=\"color: #008080; text-decoration-color: #008080; font-weight: bold\">100</span>\n",
       "obs_radius: <span style=\"color: #008080; text-decoration-color: #008080; font-weight: bold\">4</span>\n",
       "obs_shape:\n",
       "- <span style=\"color: #008080; text-decoration-color: #008080; font-weight: bold\">6</span>\n",
       "- <span style=\"color: #008080; text-decoration-color: #008080; font-weight: bold\">9</span>\n",
       "- <span style=\"color: #008080; text-decoration-color: #008080; font-weight: bold\">9</span>\n",
       "pass_rate: <span style=\"color: #008080; text-decoration-color: #008080; font-weight: bold\">0.9</span>\n",
       "prioritized_replay_alpha: <span style=\"color: #008080; text-decoration-color: #008080; font-weight: bold\">0.6</span>\n",
       "prioritized_replay_beta: <span style=\"color: #008080; text-decoration-color: #008080; font-weight: bold\">0.4</span>\n",
       "project: FinalTest\n",
       "reward_fn:\n",
       "  move: <span style=\"color: #008080; text-decoration-color: #008080; font-weight: bold\">-0.075</span>\n",
       "  stay_on_goal: <span style=\"color: #008080; text-decoration-color: #008080; font-weight: bold\">0</span>\n",
       "  stay_off_goal: <span style=\"color: #008080; text-decoration-color: #008080; font-weight: bold\">-0.075</span>\n",
       "  collision: <span style=\"color: #008080; text-decoration-color: #008080; font-weight: bold\">-0.5</span>\n",
       "  finish: <span style=\"color: #008080; text-decoration-color: #008080; font-weight: bold\">3</span>\n",
       "run_id: <span style=\"color: #008080; text-decoration-color: #008080; font-weight: bold\">20240313</span>-<span style=\"color: #008080; text-decoration-color: #008080; font-weight: bold\">132804</span>\n",
       "save_interval: <span style=\"color: #008080; text-decoration-color: #008080; font-weight: bold\">1000</span>\n",
       "save_map_config: true\n",
       "save_path: .<span style=\"color: #800080; text-decoration-color: #800080\">/saved_models/</span><span style=\"color: #ff00ff; text-decoration-color: #ff00ff\">eph_net</span>\n",
       "save_positions: true\n",
       "selective_comm: true\n",
       "target_network_update_freq: <span style=\"color: #008080; text-decoration-color: #008080; font-weight: bold\">1750</span>\n",
       "test_data_mode: normal\n",
       "test_env_settings:\n",
       "- - den312d\n",
       "  - <span style=\"color: #008080; text-decoration-color: #008080; font-weight: bold\">4</span>\n",
       "- - den312d\n",
       "  - <span style=\"color: #008080; text-decoration-color: #008080; font-weight: bold\">8</span>\n",
       "- - warehouse\n",
       "  - <span style=\"color: #008080; text-decoration-color: #008080; font-weight: bold\">4</span>\n",
       "- - warehouse\n",
       "  - <span style=\"color: #008080; text-decoration-color: #008080; font-weight: bold\">8</span>\n",
       "test_folder: .<span style=\"color: #800080; text-decoration-color: #800080\">/</span><span style=\"color: #ff00ff; text-decoration-color: #ff00ff\">test_set</span>\n",
       "test_seed: <span style=\"color: #008080; text-decoration-color: #008080; font-weight: bold\">0</span>\n",
       "test_timeout: <span style=\"color: #008080; text-decoration-color: #008080; font-weight: bold\">300</span>\n",
       "training_steps: <span style=\"color: #008080; text-decoration-color: #008080; font-weight: bold\">150000</span>\n",
       "use_aep: true\n",
       "use_stepinfer_method: true\n",
       "use_validation: true\n",
       "use_wandb: false\n",
       "use_wandb_test: false\n",
       "val_device: cpu\n",
       "val_interval: <span style=\"color: #008080; text-decoration-color: #008080; font-weight: bold\">1000</span>\n",
       "val_pool_parallel_cores: <span style=\"color: #008080; text-decoration-color: #008080; font-weight: bold\">16</span>\n",
       "val_test_set:\n",
       "- - <span style=\"color: #008080; text-decoration-color: #008080; font-weight: bold\">40</span>\n",
       "  - <span style=\"color: #008080; text-decoration-color: #008080; font-weight: bold\">16</span>\n",
       "  - <span style=\"color: #008080; text-decoration-color: #008080; font-weight: bold\">0.3</span>\n",
       "- - <span style=\"color: #008080; text-decoration-color: #008080; font-weight: bold\">40</span>\n",
       "  - <span style=\"color: #008080; text-decoration-color: #008080; font-weight: bold\">32</span>\n",
       "  - <span style=\"color: #008080; text-decoration-color: #008080; font-weight: bold\">0.3</span>\n",
       "- - <span style=\"color: #008080; text-decoration-color: #008080; font-weight: bold\">40</span>\n",
       "  - <span style=\"color: #008080; text-decoration-color: #008080; font-weight: bold\">64</span>\n",
       "  - <span style=\"color: #008080; text-decoration-color: #008080; font-weight: bold\">0.3</span>\n",
       "weight_decay: <span style=\"color: #008080; text-decoration-color: #008080; font-weight: bold\">0</span>\n",
       "data_mode: movingai\n",
       "\n",
       "</pre>\n"
      ],
      "text/plain": [
       "action_dim: \u001b[1;36m5\u001b[0m\n",
       "active_agent_radius: \u001b[1;36m4\u001b[0m\n",
       "actor_update_steps: \u001b[1;36m200\u001b[0m\n",
       "aep_astar_type: \u001b[1;36m2\u001b[0m\n",
       "aep_distance_threshold: null\n",
       "aep_use_q_value_only: false\n",
       "astar_type: \u001b[1;36m2\u001b[0m\n",
       "batch_size: \u001b[1;36m128\u001b[0m\n",
       "buffer_capacity: \u001b[1;36m262144\u001b[0m\n",
       "burn_in_steps: \u001b[1;36m20\u001b[0m\n",
       "chunk_capacity: \u001b[1;36m64\u001b[0m\n",
       "cl_history_size: \u001b[1;36m100\u001b[0m\n",
       "cnn_channel: \u001b[1;36m128\u001b[0m\n",
       "density: \u001b[1;36m0.3\u001b[0m\n",
       "ensemble:\n",
       "- - false\n",
       "  - null\n",
       "  - null\n",
       "  - false\n",
       "  - null\n",
       "forward_steps: \u001b[1;36m2\u001b[0m\n",
       "gamma: \u001b[1;36m0.99\u001b[0m\n",
       "grad_norm_dqn: \u001b[1;36m40\u001b[0m\n",
       "hidden_dim: \u001b[1;36m256\u001b[0m\n",
       "init_env_settings:\n",
       "- \u001b[1;36m1\u001b[0m\n",
       "- \u001b[1;36m10\u001b[0m\n",
       "learning_starts: \u001b[1;36m50000\u001b[0m\n",
       "log_interval: \u001b[1;36m10\u001b[0m\n",
       "lr: \u001b[1;36m0.0002\u001b[0m\n",
       "lr_scheduler_gamma: \u001b[1;36m0.5\u001b[0m\n",
       "lr_scheduler_milestones:\n",
       "- \u001b[1;36m40000\u001b[0m\n",
       "- \u001b[1;36m80000\u001b[0m\n",
       "max_comm_agents: \u001b[1;36m3\u001b[0m\n",
       "max_episode_length: \u001b[1;36m256\u001b[0m\n",
       "max_episode_length_80: \u001b[1;36m386\u001b[0m\n",
       "max_episode_warehouse: \u001b[1;36m512\u001b[0m\n",
       "max_map_lenght: \u001b[1;36m40\u001b[0m\n",
       "max_num_agents: \u001b[1;36m16\u001b[0m\n",
       "model_target: src.models.eph.Network\n",
       "name: eph\n",
       "num_actors: \u001b[1;36m16\u001b[0m\n",
       "num_test_cases: \u001b[1;36m100\u001b[0m\n",
       "obs_radius: \u001b[1;36m4\u001b[0m\n",
       "obs_shape:\n",
       "- \u001b[1;36m6\u001b[0m\n",
       "- \u001b[1;36m9\u001b[0m\n",
       "- \u001b[1;36m9\u001b[0m\n",
       "pass_rate: \u001b[1;36m0.9\u001b[0m\n",
       "prioritized_replay_alpha: \u001b[1;36m0.6\u001b[0m\n",
       "prioritized_replay_beta: \u001b[1;36m0.4\u001b[0m\n",
       "project: FinalTest\n",
       "reward_fn:\n",
       "  move: \u001b[1;36m-0.075\u001b[0m\n",
       "  stay_on_goal: \u001b[1;36m0\u001b[0m\n",
       "  stay_off_goal: \u001b[1;36m-0.075\u001b[0m\n",
       "  collision: \u001b[1;36m-0.5\u001b[0m\n",
       "  finish: \u001b[1;36m3\u001b[0m\n",
       "run_id: \u001b[1;36m20240313\u001b[0m-\u001b[1;36m132804\u001b[0m\n",
       "save_interval: \u001b[1;36m1000\u001b[0m\n",
       "save_map_config: true\n",
       "save_path: .\u001b[35m/saved_models/\u001b[0m\u001b[95meph_net\u001b[0m\n",
       "save_positions: true\n",
       "selective_comm: true\n",
       "target_network_update_freq: \u001b[1;36m1750\u001b[0m\n",
       "test_data_mode: normal\n",
       "test_env_settings:\n",
       "- - den312d\n",
       "  - \u001b[1;36m4\u001b[0m\n",
       "- - den312d\n",
       "  - \u001b[1;36m8\u001b[0m\n",
       "- - warehouse\n",
       "  - \u001b[1;36m4\u001b[0m\n",
       "- - warehouse\n",
       "  - \u001b[1;36m8\u001b[0m\n",
       "test_folder: .\u001b[35m/\u001b[0m\u001b[95mtest_set\u001b[0m\n",
       "test_seed: \u001b[1;36m0\u001b[0m\n",
       "test_timeout: \u001b[1;36m300\u001b[0m\n",
       "training_steps: \u001b[1;36m150000\u001b[0m\n",
       "use_aep: true\n",
       "use_stepinfer_method: true\n",
       "use_validation: true\n",
       "use_wandb: false\n",
       "use_wandb_test: false\n",
       "val_device: cpu\n",
       "val_interval: \u001b[1;36m1000\u001b[0m\n",
       "val_pool_parallel_cores: \u001b[1;36m16\u001b[0m\n",
       "val_test_set:\n",
       "- - \u001b[1;36m40\u001b[0m\n",
       "  - \u001b[1;36m16\u001b[0m\n",
       "  - \u001b[1;36m0.3\u001b[0m\n",
       "- - \u001b[1;36m40\u001b[0m\n",
       "  - \u001b[1;36m32\u001b[0m\n",
       "  - \u001b[1;36m0.3\u001b[0m\n",
       "- - \u001b[1;36m40\u001b[0m\n",
       "  - \u001b[1;36m64\u001b[0m\n",
       "  - \u001b[1;36m0.3\u001b[0m\n",
       "weight_decay: \u001b[1;36m0\u001b[0m\n",
       "data_mode: movingai\n",
       "\n"
      ]
     },
     "metadata": {},
     "output_type": "display_data"
    }
   ],
   "source": [
    "import rich\n",
    "from omegaconf import OmegaConf\n",
    "\n",
    "rich.print(OmegaConf.to_yaml(config))\n"
   ]
  },
  {
   "cell_type": "code",
   "execution_count": 21,
   "metadata": {},
   "outputs": [
    {
     "name": "stdout",
     "output_type": "stream",
     "text": [
      "\n",
      "----------test model eph@65000----------\n",
      "test set: den312d 4 agents\n"
     ]
    },
    {
     "name": "stderr",
     "output_type": "stream",
     "text": [
      "100%|██████████| 20/20 [00:01<00:00, 14.27it/s]\n"
     ]
    },
    {
     "name": "stdout",
     "output_type": "stream",
     "text": [
      "success rate: 100.00%\n",
      "average step: 80.1\n",
      "communication times: 2.55\n",
      "average arrived agents : 4.0 \n",
      "Time taken for test set:  1.42\n",
      "Saving results in ./results/den312d_4agents/eph_65000.pkl\n",
      "test set: den312d 8 agents\n"
     ]
    },
    {
     "name": "stderr",
     "output_type": "stream",
     "text": [
      "100%|██████████| 20/20 [00:01<00:00, 10.88it/s]\n"
     ]
    },
    {
     "name": "stdout",
     "output_type": "stream",
     "text": [
      "success rate: 100.00%\n",
      "average step: 96.3\n",
      "communication times: 11.8\n",
      "average arrived agents : 8.0 \n",
      "Time taken for test set:  1.86\n",
      "Saving results in ./results/den312d_8agents/eph_65000.pkl\n",
      "test set: warehouse 4 agents\n"
     ]
    },
    {
     "name": "stderr",
     "output_type": "stream",
     "text": [
      "100%|██████████| 20/20 [00:02<00:00,  8.97it/s]\n"
     ]
    },
    {
     "name": "stdout",
     "output_type": "stream",
     "text": [
      "success rate: 100.00%\n",
      "average step: 128.0\n",
      "communication times: 1.3\n",
      "average arrived agents : 4.0 \n",
      "Time taken for test set:  2.28\n",
      "Saving results in ./results/warehouse_4agents/eph_65000.pkl\n",
      "test set: warehouse 8 agents\n"
     ]
    },
    {
     "name": "stderr",
     "output_type": "stream",
     "text": [
      "100%|██████████| 20/20 [00:03<00:00,  6.02it/s]"
     ]
    },
    {
     "name": "stdout",
     "output_type": "stream",
     "text": [
      "success rate: 95.00%\n",
      "average step: 167.55\n",
      "communication times: 23.2\n",
      "average arrived agents : 7.9 \n",
      "Time taken for test set:  3.36\n",
      "Saving results in ./results/warehouse_8agents/eph_65000.pkl\n"
     ]
    },
    {
     "name": "stderr",
     "output_type": "stream",
     "text": [
      "\n"
     ]
    }
   ],
   "source": [
    "results = test_model('65000', config=config)"
   ]
  },
  {
   "cell_type": "markdown",
   "metadata": {},
   "source": [
    "## Create visualization"
   ]
  },
  {
   "cell_type": "markdown",
   "metadata": {},
   "source": [
    "First, we need to collect the results. Let's choose the last case"
   ]
  },
  {
   "cell_type": "code",
   "execution_count": 5,
   "metadata": {},
   "outputs": [
    {
     "name": "stdout",
     "output_type": "stream",
     "text": [
      "dict_keys([['den312d', 4], ['den312d', 8], ['warehouse', 4], ['warehouse', 8]])\n"
     ]
    }
   ],
   "source": [
    "print(results.keys())"
   ]
  },
  {
   "cell_type": "code",
   "execution_count": 6,
   "metadata": {},
   "outputs": [
    {
     "name": "stdout",
     "output_type": "stream",
     "text": [
      "['den312d', 4]\n",
      "Makespan:  89\n"
     ]
    }
   ],
   "source": [
    "IDX = 3 # take one solution\n",
    "\n",
    "key = list(results.keys())[0]\n",
    "print(key)\n",
    "res = results[key]\n",
    "\n",
    "all_map = res[\"map\"][IDX]\n",
    "map_, init_pos, goals = all_map[0], all_map[1], all_map[2]\n",
    "positions = res[\"best_pos\"][IDX] # for ensemble, it is a list of positions\n",
    "print(\"Makespan: \", len(positions))"
   ]
  },
  {
   "cell_type": "markdown",
   "metadata": {},
   "source": [
    "Note: Remember to install ffmpeg!\n",
    "\n",
    "example:\n",
    "```bash\n",
    "conda install -c conda-forge ffmpeg\n",
    "```"
   ]
  },
  {
   "cell_type": "code",
   "execution_count": 11,
   "metadata": {},
   "outputs": [
    {
     "name": "stderr",
     "output_type": "stream",
     "text": [
      "100%|██████████| 89/89 [00:00<00:00, 846469.51it/s]\n",
      "ffmpeg version 4.2.2 Copyright (c) 2000-2019 the FFmpeg developers\n",
      "  built with gcc 7.3.0 (crosstool-NG 1.23.0.449-a04d0)\n",
      "  configuration: --prefix=/tmp/build/80754af9/ffmpeg_1587154242452/_h_env_placehold_placehold_placehold_placehold_placehold_placehold_placehold_placehold_placehold_placehold_placehold_placehold_placehold_placehold_placehold_placehold_placehold_placehold_placehold_placehold_placeho --cc=/tmp/build/80754af9/ffmpeg_1587154242452/_build_env/bin/x86_64-conda_cos6-linux-gnu-cc --disable-doc --enable-avresample --enable-gmp --enable-hardcoded-tables --enable-libfreetype --enable-libvpx --enable-pthreads --enable-libopus --enable-postproc --enable-pic --enable-pthreads --enable-shared --enable-static --enable-version3 --enable-zlib --enable-libmp3lame --disable-nonfree --enable-gpl --enable-gnutls --disable-openssl --enable-libopenh264 --enable-libx264\n",
      "  libavutil      56. 31.100 / 56. 31.100\n",
      "  libavcodec     58. 54.100 / 58. 54.100\n",
      "  libavformat    58. 29.100 / 58. 29.100\n",
      "  libavdevice    58.  8.100 / 58.  8.100\n",
      "  libavfilter     7. 57.100 /  7. 57.100\n",
      "  libavresample   4.  0.  0 /  4.  0.  0\n",
      "  libswscale      5.  5.100 /  5.  5.100\n",
      "  libswresample   3.  5.100 /  3.  5.100\n",
      "  libpostproc    55.  5.100 / 55.  5.100\n",
      "Input #0, image2, from '/tmp/agent_frames/frame_%04d.png':\n",
      "  Duration: 00:00:08.90, start: 0.000000, bitrate: N/A\n",
      "    Stream #0:0: Video: png, rgba(pc), 1200x600 [SAR 3937:3937 DAR 2:1], 10 fps, 10 tbr, 10 tbn, 10 tbc\n",
      "Stream mapping:\n",
      "  Stream #0:0 -> #0:0 (png (native) -> h264 (libx264))\n",
      "Press [q] to stop, [?] for help\n",
      "[libx264 @ 0x55ed7cd5ce00] using SAR=1/1\n",
      "[libx264 @ 0x55ed7cd5ce00] using cpu capabilities: MMX2 SSE2Fast SSSE3 SSE4.2 AVX FMA3 BMI2 AVX2 AVX512\n",
      "[libx264 @ 0x55ed7cd5ce00] profile High, level 3.1, 4:2:0, 8-bit\n",
      "[libx264 @ 0x55ed7cd5ce00] 264 - core 157 - H.264/MPEG-4 AVC codec - Copyleft 2003-2018 - http://www.videolan.org/x264.html - options: cabac=1 ref=3 deblock=1:0:0 analyse=0x3:0x113 me=hex subme=7 psy=1 psy_rd=1.00:0.00 mixed_ref=1 me_range=16 chroma_me=1 trellis=1 8x8dct=1 cqm=0 deadzone=21,11 fast_pskip=1 chroma_qp_offset=-2 threads=19 lookahead_threads=3 sliced_threads=0 nr=0 decimate=1 interlaced=0 bluray_compat=0 constrained_intra=0 bframes=3 b_pyramid=2 b_adapt=1 b_bias=0 direct=1 weightb=1 open_gop=0 weightp=2 keyint=250 keyint_min=10 scenecut=40 intra_refresh=0 rc_lookahead=40 rc=crf mbtree=1 crf=23.0 qcomp=0.60 qpmin=0 qpmax=69 qpstep=4 ip_ratio=1.40 aq=1:1.00\n",
      "Output #0, mp4, to 'test.mp4':\n",
      "  Metadata:\n",
      "    encoder         : Lavf58.29.100\n",
      "    Stream #0:0: Video: h264 (libx264) (avc1 / 0x31637661), yuv420p, 1200x600 [SAR 1:1 DAR 2:1], q=-1--1, 10 fps, 10240 tbn, 10 tbc\n",
      "    Metadata:\n",
      "      encoder         : Lavc58.54.100 libx264\n",
      "    Side data:\n",
      "      cpb: bitrate max/min/avg: 0/0/0 buffer size: 0 vbv_delay: -1\n",
      "frame=   89 fps=0.0 q=-1.0 Lsize=      56kB time=00:00:08.60 bitrate=  53.4kbits/s speed=16.6x    \n",
      "video:54kB audio:0kB subtitle:0kB other streams:0kB global headers:0kB muxing overhead: 3.420868%\n",
      "[libx264 @ 0x55ed7cd5ce00] frame I:1     Avg QP:20.04  size: 34015\n",
      "[libx264 @ 0x55ed7cd5ce00] frame P:26    Avg QP:18.29  size:   427\n",
      "[libx264 @ 0x55ed7cd5ce00] frame B:62    Avg QP:22.07  size:   156\n",
      "[libx264 @ 0x55ed7cd5ce00] consecutive B-frames:  5.6%  2.2%  6.7% 85.4%\n",
      "[libx264 @ 0x55ed7cd5ce00] mb I  I16..4: 14.5% 69.6% 15.9%\n",
      "[libx264 @ 0x55ed7cd5ce00] mb P  I16..4:  0.3%  0.1%  0.0%  P16..4:  0.7%  0.1%  0.0%  0.0%  0.0%    skip:98.9%\n",
      "[libx264 @ 0x55ed7cd5ce00] mb B  I16..4:  0.2%  0.1%  0.0%  B16..8:  0.8%  0.1%  0.0%  direct: 0.0%  skip:98.9%  L0:36.9% L1:61.9% BI: 1.2%\n",
      "[libx264 @ 0x55ed7cd5ce00] 8x8 transform intra:61.6% inter:4.1%\n",
      "[libx264 @ 0x55ed7cd5ce00] coded y,uvDC,uvAC intra: 16.7% 0.5% 0.5% inter: 0.1% 0.1% 0.1%\n",
      "[libx264 @ 0x55ed7cd5ce00] i16 v,h,dc,p: 76% 21%  3%  0%\n",
      "[libx264 @ 0x55ed7cd5ce00] i8 v,h,dc,ddl,ddr,vr,hd,vl,hu: 47%  4% 49%  0%  0%  0%  0%  0%  0%\n",
      "[libx264 @ 0x55ed7cd5ce00] i4 v,h,dc,ddl,ddr,vr,hd,vl,hu: 59% 36%  3%  0%  0%  1%  0%  0%  0%\n",
      "[libx264 @ 0x55ed7cd5ce00] i8c dc,h,v,p: 100%  0%  0%  0%\n",
      "[libx264 @ 0x55ed7cd5ce00] Weighted P-Frames: Y:0.0% UV:0.0%\n",
      "[libx264 @ 0x55ed7cd5ce00] ref P L0: 74.8%  1.6% 11.5% 12.2%\n",
      "[libx264 @ 0x55ed7cd5ce00] ref B L0: 74.1% 23.7%  2.2%\n",
      "[libx264 @ 0x55ed7cd5ce00] ref B L1: 94.4%  5.6%\n",
      "[libx264 @ 0x55ed7cd5ce00] kb/s:49.26\n"
     ]
    }
   ],
   "source": [
    "from src.utils.video import create_video\n",
    "\n",
    "FILENAME = \"test.mp4\"\n",
    "create_video(map_, init_pos=init_pos, goal_pos=goals, positions=positions, filename=FILENAME)"
   ]
  },
  {
   "cell_type": "code",
   "execution_count": 14,
   "metadata": {},
   "outputs": [
    {
     "data": {
      "text/html": [
       "<video controls  >\n",
       " <source src=\"data:video/mp4;base64,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\" type=\"video/mp4\">\n",
       " Your browser does not support the video tag.\n",
       " </video>"
      ],
      "text/plain": [
       "<IPython.core.display.Video object>"
      ]
     },
     "execution_count": 14,
     "metadata": {},
     "output_type": "execute_result"
    }
   ],
   "source": [
    "from IPython.display import Video\n",
    "\n",
    "Video(FILENAME, embed=True)"
   ]
  }
 ],
 "metadata": {
  "kernelspec": {
   "display_name": "Python 3",
   "language": "python",
   "name": "python3"
  },
  "language_info": {
   "codemirror_mode": {
    "name": "ipython",
    "version": 3
   },
   "file_extension": ".py",
   "mimetype": "text/x-python",
   "name": "python",
   "nbconvert_exporter": "python",
   "pygments_lexer": "ipython3",
   "version": "3.11.8"
  }
 },
 "nbformat": 4,
 "nbformat_minor": 2
}
